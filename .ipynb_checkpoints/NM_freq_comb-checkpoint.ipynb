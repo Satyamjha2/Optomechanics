{
 "cells": [
  {
   "cell_type": "code",
   "execution_count": 1,
   "id": "b3cf4ebf",
   "metadata": {},
   "outputs": [],
   "source": [
    "import matplotlib.pyplot as plt\n",
    "import numpy as np\n",
    "from scipy.integrate import odeint ,  solve_ivp\n",
    "import datetime\n",
    "from tqdm import tqdm"
   ]
  },
  {
   "cell_type": "code",
   "execution_count": 2,
   "id": "33e1fea7",
   "metadata": {},
   "outputs": [],
   "source": [
    "g_y=1.24e6   ##Hz\n",
    "omega_0=4.45e15 ##Hz\n",
    "del_omega=1e8\n",
    "omega_1=omega_0-del_omega ##Hz\n",
    "ohm=1e6         ##Hz\n",
    "g_z0=0\n",
    "g_z1=(20*ohm)**0.5\n",
    "delta_0=100*ohm\n",
    "N0=1e1\n",
    "\n",
    "g_y/=ohm\n",
    "g_z1/=ohm\n",
    "g_z0/=ohm\n",
    "omega_1/=ohm\n",
    "omega_0/=ohm\n",
    "del_omega/=ohm"
   ]
  },
  {
   "cell_type": "code",
   "execution_count": null,
   "id": "05be5139",
   "metadata": {},
   "outputs": [],
   "source": []
  },
  {
   "cell_type": "code",
   "execution_count": null,
   "id": "a85b108a",
   "metadata": {},
   "outputs": [],
   "source": []
  },
  {
   "cell_type": "code",
   "execution_count": null,
   "id": "f9f5f7a7",
   "metadata": {},
   "outputs": [],
   "source": []
  },
  {
   "cell_type": "code",
   "execution_count": null,
   "id": "a2695289",
   "metadata": {},
   "outputs": [],
   "source": []
  },
  {
   "cell_type": "code",
   "execution_count": null,
   "id": "d451b9aa",
   "metadata": {},
   "outputs": [],
   "source": []
  },
  {
   "cell_type": "code",
   "execution_count": null,
   "id": "311209eb",
   "metadata": {},
   "outputs": [],
   "source": []
  }
 ],
 "metadata": {
  "kernelspec": {
   "display_name": "Python 3 (ipykernel)",
   "language": "python",
   "name": "python3"
  },
  "language_info": {
   "codemirror_mode": {
    "name": "ipython",
    "version": 3
   },
   "file_extension": ".py",
   "mimetype": "text/x-python",
   "name": "python",
   "nbconvert_exporter": "python",
   "pygments_lexer": "ipython3",
   "version": "3.11.5"
  }
 },
 "nbformat": 4,
 "nbformat_minor": 5
}
